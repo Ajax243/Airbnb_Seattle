{
 "cells": [
  {
   "cell_type": "markdown",
   "id": "989937bb",
   "metadata": {},
   "source": [
    "## Question 3 :<br>\n",
    "\n",
    "### What are the best possible neighborhoods from a business aspect based on price only? <br>\n",
    "<br>"
   ]
  },
  {
   "cell_type": "markdown",
   "id": "f1594a15",
   "metadata": {},
   "source": [
    "Importing the packages that we will need and load the data"
   ]
  },
  {
   "cell_type": "code",
   "execution_count": 1,
   "id": "f7ccf181",
   "metadata": {},
   "outputs": [],
   "source": [
    "import numpy as np\n",
    "import pandas as pd\n",
    "import matplotlib.pyplot as plt\n",
    "import seaborn as sns\n",
    "from datetime import datetime\n",
    "\n",
    "%matplotlib inline"
   ]
  },
  {
   "cell_type": "code",
   "execution_count": 2,
   "id": "87bfa05d",
   "metadata": {},
   "outputs": [],
   "source": [
    "df=pd.read_csv('calendar.csv')"
   ]
  },
  {
   "cell_type": "code",
   "execution_count": 3,
   "id": "5adead0c",
   "metadata": {},
   "outputs": [
    {
     "data": {
      "text/plain": [
       "(1393570, 4)"
      ]
     },
     "execution_count": 3,
     "metadata": {},
     "output_type": "execute_result"
    }
   ],
   "source": [
    "df.shape"
   ]
  },
  {
   "cell_type": "code",
   "execution_count": 4,
   "id": "04035cb1",
   "metadata": {},
   "outputs": [
    {
     "data": {
      "text/html": [
       "<div>\n",
       "<style scoped>\n",
       "    .dataframe tbody tr th:only-of-type {\n",
       "        vertical-align: middle;\n",
       "    }\n",
       "\n",
       "    .dataframe tbody tr th {\n",
       "        vertical-align: top;\n",
       "    }\n",
       "\n",
       "    .dataframe thead th {\n",
       "        text-align: right;\n",
       "    }\n",
       "</style>\n",
       "<table border=\"1\" class=\"dataframe\">\n",
       "  <thead>\n",
       "    <tr style=\"text-align: right;\">\n",
       "      <th></th>\n",
       "      <th>listing_id</th>\n",
       "      <th>date</th>\n",
       "      <th>available</th>\n",
       "      <th>price</th>\n",
       "    </tr>\n",
       "  </thead>\n",
       "  <tbody>\n",
       "    <tr>\n",
       "      <th>0</th>\n",
       "      <td>241032</td>\n",
       "      <td>2016-01-04</td>\n",
       "      <td>t</td>\n",
       "      <td>$85.00</td>\n",
       "    </tr>\n",
       "    <tr>\n",
       "      <th>1</th>\n",
       "      <td>241032</td>\n",
       "      <td>2016-01-05</td>\n",
       "      <td>t</td>\n",
       "      <td>$85.00</td>\n",
       "    </tr>\n",
       "    <tr>\n",
       "      <th>2</th>\n",
       "      <td>241032</td>\n",
       "      <td>2016-01-06</td>\n",
       "      <td>f</td>\n",
       "      <td>NaN</td>\n",
       "    </tr>\n",
       "    <tr>\n",
       "      <th>3</th>\n",
       "      <td>241032</td>\n",
       "      <td>2016-01-07</td>\n",
       "      <td>f</td>\n",
       "      <td>NaN</td>\n",
       "    </tr>\n",
       "    <tr>\n",
       "      <th>4</th>\n",
       "      <td>241032</td>\n",
       "      <td>2016-01-08</td>\n",
       "      <td>f</td>\n",
       "      <td>NaN</td>\n",
       "    </tr>\n",
       "    <tr>\n",
       "      <th>5</th>\n",
       "      <td>241032</td>\n",
       "      <td>2016-01-09</td>\n",
       "      <td>f</td>\n",
       "      <td>NaN</td>\n",
       "    </tr>\n",
       "    <tr>\n",
       "      <th>6</th>\n",
       "      <td>241032</td>\n",
       "      <td>2016-01-10</td>\n",
       "      <td>f</td>\n",
       "      <td>NaN</td>\n",
       "    </tr>\n",
       "    <tr>\n",
       "      <th>7</th>\n",
       "      <td>241032</td>\n",
       "      <td>2016-01-11</td>\n",
       "      <td>f</td>\n",
       "      <td>NaN</td>\n",
       "    </tr>\n",
       "    <tr>\n",
       "      <th>8</th>\n",
       "      <td>241032</td>\n",
       "      <td>2016-01-12</td>\n",
       "      <td>f</td>\n",
       "      <td>NaN</td>\n",
       "    </tr>\n",
       "    <tr>\n",
       "      <th>9</th>\n",
       "      <td>241032</td>\n",
       "      <td>2016-01-13</td>\n",
       "      <td>t</td>\n",
       "      <td>$85.00</td>\n",
       "    </tr>\n",
       "  </tbody>\n",
       "</table>\n",
       "</div>"
      ],
      "text/plain": [
       "   listing_id        date available   price\n",
       "0      241032  2016-01-04         t  $85.00\n",
       "1      241032  2016-01-05         t  $85.00\n",
       "2      241032  2016-01-06         f     NaN\n",
       "3      241032  2016-01-07         f     NaN\n",
       "4      241032  2016-01-08         f     NaN\n",
       "5      241032  2016-01-09         f     NaN\n",
       "6      241032  2016-01-10         f     NaN\n",
       "7      241032  2016-01-11         f     NaN\n",
       "8      241032  2016-01-12         f     NaN\n",
       "9      241032  2016-01-13         t  $85.00"
      ]
     },
     "execution_count": 4,
     "metadata": {},
     "output_type": "execute_result"
    }
   ],
   "source": [
    "df.head(10)"
   ]
  },
  {
   "cell_type": "markdown",
   "id": "0368f5f2",
   "metadata": {},
   "source": [
    "There seems to be a lot of null values, lets see if they're only in one column:"
   ]
  },
  {
   "cell_type": "code",
   "execution_count": 5,
   "id": "52386ef0",
   "metadata": {},
   "outputs": [
    {
     "data": {
      "text/plain": [
       "listing_id         0\n",
       "date               0\n",
       "available          0\n",
       "price         459028\n",
       "dtype: int64"
      ]
     },
     "execution_count": 5,
     "metadata": {},
     "output_type": "execute_result"
    }
   ],
   "source": [
    "df.isnull().sum()"
   ]
  },
  {
   "cell_type": "markdown",
   "id": "0a200815",
   "metadata": {},
   "source": [
    "Lets see if the null values correspond to the listing being unavailable, we will check that by identifying the unique values for the available column:"
   ]
  },
  {
   "cell_type": "code",
   "execution_count": 6,
   "id": "ee45f5e0",
   "metadata": {},
   "outputs": [
    {
     "data": {
      "text/plain": [
       "t    934542\n",
       "f    459028\n",
       "Name: available, dtype: int64"
      ]
     },
     "execution_count": 6,
     "metadata": {},
     "output_type": "execute_result"
    }
   ],
   "source": [
    "df.available.value_counts()"
   ]
  },
  {
   "cell_type": "markdown",
   "id": "e94d1760",
   "metadata": {},
   "source": [
    "The numbers seem to match perfectly, which means that the null values are not missing data but they have a meaning which is the unit being not available"
   ]
  },
  {
   "cell_type": "markdown",
   "id": "9ae152e4",
   "metadata": {},
   "source": [
    "Now lets look at the format of each column:"
   ]
  },
  {
   "cell_type": "code",
   "execution_count": 7,
   "id": "32cab13e",
   "metadata": {},
   "outputs": [
    {
     "name": "stdout",
     "output_type": "stream",
     "text": [
      "<class 'pandas.core.frame.DataFrame'>\n",
      "RangeIndex: 1393570 entries, 0 to 1393569\n",
      "Data columns (total 4 columns):\n",
      " #   Column      Non-Null Count    Dtype \n",
      "---  ------      --------------    ----- \n",
      " 0   listing_id  1393570 non-null  int64 \n",
      " 1   date        1393570 non-null  object\n",
      " 2   available   1393570 non-null  object\n",
      " 3   price       934542 non-null   object\n",
      "dtypes: int64(1), object(3)\n",
      "memory usage: 42.5+ MB\n"
     ]
    }
   ],
   "source": [
    "df.info()"
   ]
  },
  {
   "cell_type": "markdown",
   "id": "67ca5283",
   "metadata": {},
   "source": [
    "Changing date to datetime format to be able to subset it better:"
   ]
  },
  {
   "cell_type": "code",
   "execution_count": 8,
   "id": "0ae850da",
   "metadata": {},
   "outputs": [],
   "source": [
    "df['date']=pd.to_datetime(df['date'])"
   ]
  },
  {
   "cell_type": "markdown",
   "id": "58c63178",
   "metadata": {},
   "source": [
    "Changing the t and f values in the available column to numbers to be able to aggregate it:"
   ]
  },
  {
   "cell_type": "code",
   "execution_count": 9,
   "id": "4e74f0cf",
   "metadata": {},
   "outputs": [],
   "source": [
    "dic={'t':1, 'f':0}\n",
    "df['available']=df['available'].map(dic)"
   ]
  },
  {
   "cell_type": "markdown",
   "id": "e3bc1832",
   "metadata": {},
   "source": [
    "lets check the average availability per listing during the year:"
   ]
  },
  {
   "cell_type": "code",
   "execution_count": 10,
   "id": "ec2d0ef3",
   "metadata": {},
   "outputs": [
    {
     "data": {
      "text/plain": [
       "308.0"
      ]
     },
     "execution_count": 10,
     "metadata": {},
     "output_type": "execute_result"
    }
   ],
   "source": [
    "lis1=df.groupby(['listing_id'])['available'].sum().median()\n",
    "\n",
    "lis1"
   ]
  },
  {
   "cell_type": "markdown",
   "id": "5b383122",
   "metadata": {},
   "source": [
    "Lets create columns for year, month and day in case we need it later:"
   ]
  },
  {
   "cell_type": "code",
   "execution_count": 11,
   "id": "17a7e1ad",
   "metadata": {},
   "outputs": [],
   "source": [
    "df['year']=df['date'].dt.year\n",
    "df['month']=df['date'].dt.month\n",
    "df['day']=df['date'].dt.day\n"
   ]
  },
  {
   "cell_type": "markdown",
   "id": "85a17e55",
   "metadata": {},
   "source": [
    "Changing the price to float to be able to compute it:"
   ]
  },
  {
   "cell_type": "code",
   "execution_count": 14,
   "id": "b3c89ca7",
   "metadata": {
    "scrolled": false
   },
   "outputs": [],
   "source": [
    "def numeric_converter(df):\n",
    "        \"\"\"\" \n",
    "        Input : a dataframe or a column of strings\n",
    "        Output: the dataframe or the column as a number without any other strings next to it\"\"\"\n",
    "\n",
    "        df=df.str.strip('% $ ,')\n",
    "        df=df.str.replace(',', '')\n",
    "        df=pd.to_numeric(df,downcast='float')\n",
    "        return df\n",
    "\n",
    "df['price']=numeric_converter(df['price'])"
   ]
  },
  {
   "cell_type": "markdown",
   "id": "de71ec3c",
   "metadata": {},
   "source": [
    "Lets create a function that helps in plotting values against time, in this case \"months\":"
   ]
  },
  {
   "cell_type": "code",
   "execution_count": 15,
   "id": "e00cdd58",
   "metadata": {},
   "outputs": [],
   "source": [
    "month=range(1,13,1)\n",
    "def target(par1,df):\n",
    "    \"\"\"\"\n",
    "    Input:\n",
    "    \n",
    "    Par1: a name of a numeric column\n",
    "    df: the name of the dataframe the column belongs to\n",
    "    \n",
    "    Output: \n",
    "    y: a list that contains the average column values for each month\n",
    "    \"\"\"\n",
    "    y=[]\n",
    "    for i in range(1,13,1):\n",
    "           y.append(df[df['date'].dt.month==i][par1].mean())    \n",
    "    \n",
    "    return y"
   ]
  },
  {
   "cell_type": "markdown",
   "id": "6a3146a5",
   "metadata": {},
   "source": [
    "Plotting the average ratio of the units available to all the units throughout the year:"
   ]
  },
  {
   "cell_type": "code",
   "execution_count": 16,
   "id": "d445aac3",
   "metadata": {
    "scrolled": true
   },
   "outputs": [
    {
     "data": {
      "image/png": "[encoded data removed]",
      "text/plain": [
       "<Figure size 432x288 with 1 Axes>"
      ]
     },
     "metadata": {
      "needs_background": "light"
     },
     "output_type": "display_data"
    }
   ],
   "source": [
    "plt.plot(month,target('available',df))\n",
    "\n",
    "plt.xlabel('Month')\n",
    "plt.ylabel('Availabile')\n",
    "plt.title('Availability throughout the year')\n",
    "plt.show()"
   ]
  },
  {
   "cell_type": "markdown",
   "id": "05df040f",
   "metadata": {},
   "source": [
    "Plotting the average price throughout the year:"
   ]
  },
  {
   "cell_type": "code",
   "execution_count": 17,
   "id": "55872583",
   "metadata": {},
   "outputs": [
    {
     "data": {
      "image/png": "[encoded data removed]",
      "text/plain": [
       "<Figure size 432x288 with 1 Axes>"
      ]
     },
     "metadata": {
      "needs_background": "light"
     },
     "output_type": "display_data"
    }
   ],
   "source": [
    "plt.plot(month,target('price',df))\n",
    "\n",
    "plt.xlabel('Month')\n",
    "plt.ylabel('Price')\n",
    "plt.title('Price throughout the year')\n",
    "plt.show()"
   ]
  },
  {
   "cell_type": "markdown",
   "id": "d7efe73a",
   "metadata": {},
   "source": [
    "Now lets reuse the above function but adapt it to be able to plot throughout weeks instead of months:"
   ]
  },
  {
   "cell_type": "code",
   "execution_count": 18,
   "id": "0d39949f",
   "metadata": {},
   "outputs": [
    {
     "data": {
      "image/png": "[encoded data removed]",
      "text/plain": [
       "<Figure size 432x288 with 1 Axes>"
      ]
     },
     "metadata": {
      "needs_background": "light"
     },
     "output_type": "display_data"
    }
   ],
   "source": [
    "week=['Monday','Tuesday','Wednesday','Thursday','Friday','Saturday','Sunday']\n",
    "def target2(par1,df):\n",
    "    \"\"\"\"\n",
    "    Input:\n",
    "    \n",
    "    Par1: a name of a numeric column\n",
    "    df: the name of the dataframe the column belongs to\n",
    "    \n",
    "    Output: \n",
    "    y: a list that contains the average column values for each week\n",
    "    \"\"\"\n",
    "    y=[]\n",
    "    for i in range(0,7,1):\n",
    "           y.append(df[df['date'].dt.dayofweek==i][par1].mean())       \n",
    "    return y\n",
    "\n",
    "plt.plot(week,target2('available',df))\n",
    "#plt.xlabel('Week')\n",
    "plt.ylabel('Availabile')\n",
    "plt.title('Availability throughout the week')\n",
    "plt.show()"
   ]
  },
  {
   "cell_type": "markdown",
   "id": "3e2d5c99",
   "metadata": {},
   "source": [
    "Now lets import the location of the listings from the listings table, along with the id to assure the join was successful:"
   ]
  },
  {
   "cell_type": "code",
   "execution_count": 19,
   "id": "d5e44f13",
   "metadata": {},
   "outputs": [],
   "source": [
    "df_list=pd.read_csv('listings.csv')\n",
    "\n",
    "\n",
    "\n",
    "df_list=df_list[['id','zipcode','neighbourhood','neighbourhood_cleansed','neighbourhood_group_cleansed']]\n",
    "\n",
    "df3=pd.merge(df,df_list, left_on='listing_id',right_on='id')"
   ]
  },
  {
   "cell_type": "code",
   "execution_count": 20,
   "id": "4ac21a46",
   "metadata": {},
   "outputs": [
    {
     "data": {
      "text/html": [
       "<div>\n",
       "<style scoped>\n",
       "    .dataframe tbody tr th:only-of-type {\n",
       "        vertical-align: middle;\n",
       "    }\n",
       "\n",
       "    .dataframe tbody tr th {\n",
       "        vertical-align: top;\n",
       "    }\n",
       "\n",
       "    .dataframe thead th {\n",
       "        text-align: right;\n",
       "    }\n",
       "</style>\n",
       "<table border=\"1\" class=\"dataframe\">\n",
       "  <thead>\n",
       "    <tr style=\"text-align: right;\">\n",
       "      <th></th>\n",
       "      <th>listing_id</th>\n",
       "      <th>date</th>\n",
       "      <th>available</th>\n",
       "      <th>price</th>\n",
       "      <th>year</th>\n",
       "      <th>month</th>\n",
       "      <th>day</th>\n",
       "      <th>id</th>\n",
       "      <th>zipcode</th>\n",
       "      <th>neighbourhood</th>\n",
       "      <th>neighbourhood_cleansed</th>\n",
       "      <th>neighbourhood_group_cleansed</th>\n",
       "    </tr>\n",
       "  </thead>\n",
       "  <tbody>\n",
       "    <tr>\n",
       "      <th>0</th>\n",
       "      <td>241032</td>\n",
       "      <td>2016-01-04</td>\n",
       "      <td>1</td>\n",
       "      <td>85.0</td>\n",
       "      <td>2016</td>\n",
       "      <td>1</td>\n",
       "      <td>4</td>\n",
       "      <td>241032</td>\n",
       "      <td>98119</td>\n",
       "      <td>Queen Anne</td>\n",
       "      <td>West Queen Anne</td>\n",
       "      <td>Queen Anne</td>\n",
       "    </tr>\n",
       "    <tr>\n",
       "      <th>1</th>\n",
       "      <td>241032</td>\n",
       "      <td>2016-01-05</td>\n",
       "      <td>1</td>\n",
       "      <td>85.0</td>\n",
       "      <td>2016</td>\n",
       "      <td>1</td>\n",
       "      <td>5</td>\n",
       "      <td>241032</td>\n",
       "      <td>98119</td>\n",
       "      <td>Queen Anne</td>\n",
       "      <td>West Queen Anne</td>\n",
       "      <td>Queen Anne</td>\n",
       "    </tr>\n",
       "    <tr>\n",
       "      <th>2</th>\n",
       "      <td>241032</td>\n",
       "      <td>2016-01-06</td>\n",
       "      <td>0</td>\n",
       "      <td>NaN</td>\n",
       "      <td>2016</td>\n",
       "      <td>1</td>\n",
       "      <td>6</td>\n",
       "      <td>241032</td>\n",
       "      <td>98119</td>\n",
       "      <td>Queen Anne</td>\n",
       "      <td>West Queen Anne</td>\n",
       "      <td>Queen Anne</td>\n",
       "    </tr>\n",
       "    <tr>\n",
       "      <th>3</th>\n",
       "      <td>241032</td>\n",
       "      <td>2016-01-07</td>\n",
       "      <td>0</td>\n",
       "      <td>NaN</td>\n",
       "      <td>2016</td>\n",
       "      <td>1</td>\n",
       "      <td>7</td>\n",
       "      <td>241032</td>\n",
       "      <td>98119</td>\n",
       "      <td>Queen Anne</td>\n",
       "      <td>West Queen Anne</td>\n",
       "      <td>Queen Anne</td>\n",
       "    </tr>\n",
       "    <tr>\n",
       "      <th>4</th>\n",
       "      <td>241032</td>\n",
       "      <td>2016-01-08</td>\n",
       "      <td>0</td>\n",
       "      <td>NaN</td>\n",
       "      <td>2016</td>\n",
       "      <td>1</td>\n",
       "      <td>8</td>\n",
       "      <td>241032</td>\n",
       "      <td>98119</td>\n",
       "      <td>Queen Anne</td>\n",
       "      <td>West Queen Anne</td>\n",
       "      <td>Queen Anne</td>\n",
       "    </tr>\n",
       "  </tbody>\n",
       "</table>\n",
       "</div>"
      ],
      "text/plain": [
       "   listing_id       date  available  price  year  month  day      id zipcode  \\\n",
       "0      241032 2016-01-04          1   85.0  2016      1    4  241032   98119   \n",
       "1      241032 2016-01-05          1   85.0  2016      1    5  241032   98119   \n",
       "2      241032 2016-01-06          0    NaN  2016      1    6  241032   98119   \n",
       "3      241032 2016-01-07          0    NaN  2016      1    7  241032   98119   \n",
       "4      241032 2016-01-08          0    NaN  2016      1    8  241032   98119   \n",
       "\n",
       "  neighbourhood neighbourhood_cleansed neighbourhood_group_cleansed  \n",
       "0    Queen Anne        West Queen Anne                   Queen Anne  \n",
       "1    Queen Anne        West Queen Anne                   Queen Anne  \n",
       "2    Queen Anne        West Queen Anne                   Queen Anne  \n",
       "3    Queen Anne        West Queen Anne                   Queen Anne  \n",
       "4    Queen Anne        West Queen Anne                   Queen Anne  "
      ]
     },
     "execution_count": 20,
     "metadata": {},
     "output_type": "execute_result"
    }
   ],
   "source": [
    "df3.head()"
   ]
  },
  {
   "cell_type": "markdown",
   "id": "ac016dc7",
   "metadata": {},
   "source": [
    "Aggregating the number of available units by neighbourhood group:"
   ]
  },
  {
   "cell_type": "code",
   "execution_count": 21,
   "id": "997a2e83",
   "metadata": {},
   "outputs": [
    {
     "data": {
      "text/plain": [
       "neighbourhood_group_cleansed\n",
       "Other neighborhoods    194661\n",
       "Capitol Hill           132668\n",
       "Downtown               125725\n",
       "Central Area            90556\n",
       "Queen Anne              66804\n",
       "Ballard                 58115\n",
       "West Seattle            51950\n",
       "Rainier Valley          38914\n",
       "University District     33148\n",
       "Beacon Hill             30270\n",
       "Delridge                21545\n",
       "Northgate               21105\n",
       "Lake City               18801\n",
       "Cascade                 18717\n",
       "Magnolia                17248\n",
       "Seward Park             10921\n",
       "Interbay                 3394\n",
       "Name: available, dtype: int64"
      ]
     },
     "execution_count": 21,
     "metadata": {},
     "output_type": "execute_result"
    }
   ],
   "source": [
    "df3.groupby('neighbourhood_group_cleansed')['available'].sum().sort_values(ascending=False)"
   ]
  },
  {
   "cell_type": "markdown",
   "id": "cba5119a",
   "metadata": {},
   "source": [
    "The average price per neighbourhood group:"
   ]
  },
  {
   "cell_type": "code",
   "execution_count": 22,
   "id": "bae67f5d",
   "metadata": {},
   "outputs": [
    {
     "data": {
      "text/plain": [
       "neighbourhood_group_cleansed\n",
       "Magnolia               198.694336\n",
       "Downtown               187.343048\n",
       "Queen Anne             176.117889\n",
       "Cascade                154.033173\n",
       "West Seattle           148.155807\n",
       "Central Area           134.883728\n",
       "Capitol Hill           134.671890\n",
       "Ballard                125.905983\n",
       "Other neighborhoods    125.622017\n",
       "Interbay               118.421036\n",
       "Seward Park            111.110336\n",
       "University District    104.709938\n",
       "Beacon Hill            100.668777\n",
       "Rainier Valley         100.104927\n",
       "Lake City               94.518593\n",
       "Northgate               93.455528\n",
       "Delridge                90.926941\n",
       "Name: price, dtype: float32"
      ]
     },
     "execution_count": 22,
     "metadata": {},
     "output_type": "execute_result"
    }
   ],
   "source": [
    "df3.groupby('neighbourhood_group_cleansed')['price'].mean().sort_values(ascending=False)"
   ]
  },
  {
   "cell_type": "markdown",
   "id": "d18aa077",
   "metadata": {},
   "source": [
    "The average price per nighbourhood:"
   ]
  },
  {
   "cell_type": "code",
   "execution_count": 23,
   "id": "049e1944",
   "metadata": {},
   "outputs": [
    {
     "data": {
      "text/plain": [
       "neighbourhood\n",
       "Fairmount Park         370.000000\n",
       "Portage Bay            250.885284\n",
       "Industrial District    245.875443\n",
       "Windermere             227.516098\n",
       "Alki                   226.410736\n",
       "                          ...    \n",
       "Holly Park              78.184593\n",
       "Georgetown              78.025108\n",
       "Riverview               77.346275\n",
       "Olympic Hills           66.256790\n",
       "Roxhill                 60.000000\n",
       "Name: price, Length: 81, dtype: float32"
      ]
     },
     "execution_count": 23,
     "metadata": {},
     "output_type": "execute_result"
    }
   ],
   "source": [
    "df3.groupby('neighbourhood')['price'].mean().sort_values(ascending=False)"
   ]
  },
  {
   "cell_type": "markdown",
   "id": "242baf44",
   "metadata": {},
   "source": [
    "The following is a function that plots the availability vs price change per either neighbourhood group or neighbourhood:"
   ]
  },
  {
   "cell_type": "code",
   "execution_count": 34,
   "id": "6525f969",
   "metadata": {},
   "outputs": [],
   "source": [
    "def plott(loc_group,loc):\n",
    "    \n",
    "    df_plot=df3[df3[loc_group]==loc]\n",
    "    \n",
    "    fig,ax = plt.subplots()\n",
    "    \n",
    "    ax.plot(month, target('available',df_plot), color=\"orange\", marker=\"o\")\n",
    "    \n",
    "    ax.set_ylabel(\"Availability ratio/year\",color=\"orange\",fontsize=11)\n",
    "    \n",
    "    ax2=ax.twinx()\n",
    "    \n",
    "    ax2.plot(month, target('price',df_plot),color=\"blue\",marker=\"o\")\n",
    "    \n",
    "    ax2.set_ylabel(\"Average Price $\",color=\"blue\",fontsize=11)\n",
    "    \n",
    "    ax.set_xlabel('Month')\n",
    "    \n",
    "   \n",
    "    plt.title('Availability throughout the year')\n",
    "    plt.show()\n",
    "    "
   ]
  },
  {
   "cell_type": "markdown",
   "id": "c581006c",
   "metadata": {},
   "source": [
    "The availability will be checked on the left y-axis and the prices will be checked on the right y-axis:"
   ]
  },
  {
   "cell_type": "code",
   "execution_count": 35,
   "id": "a72e3465",
   "metadata": {},
   "outputs": [
    {
     "data": {
      "image/png": "[encoded data removed]",
      "text/plain": [
       "<Figure size 432x288 with 2 Axes>"
      ]
     },
     "metadata": {
      "needs_background": "light"
     },
     "output_type": "display_data"
    }
   ],
   "source": [
    "plott('neighbourhood_group_cleansed','Magnolia')"
   ]
  },
  {
   "cell_type": "code",
   "execution_count": 36,
   "id": "3c127ed0",
   "metadata": {
    "scrolled": true
   },
   "outputs": [
    {
     "data": {
      "image/png": "[encoded data removed]",
      "text/plain": [
       "<Figure size 432x288 with 2 Axes>"
      ]
     },
     "metadata": {
      "needs_background": "light"
     },
     "output_type": "display_data"
    }
   ],
   "source": [
    "plott('neighbourhood','Fairmount Park')"
   ]
  },
  {
   "cell_type": "markdown",
   "id": "55ccdf53",
   "metadata": {},
   "source": [
    "This means there are constant number of available units probably just one, lets check:"
   ]
  },
  {
   "cell_type": "code",
   "execution_count": 27,
   "id": "7ec98eba",
   "metadata": {},
   "outputs": [
    {
     "data": {
      "text/plain": [
       "692080    365\n",
       "Name: listing_id, dtype: int64"
      ]
     },
     "execution_count": 27,
     "metadata": {},
     "output_type": "execute_result"
    }
   ],
   "source": [
    "df3[df3['neighbourhood']=='Fairmount Park']['listing_id'].value_counts()"
   ]
  },
  {
   "cell_type": "markdown",
   "id": "d658adc2",
   "metadata": {},
   "source": [
    "Which means that is was on the market for that price but never booked throughout the year"
   ]
  },
  {
   "cell_type": "markdown",
   "id": "75bc0546",
   "metadata": {},
   "source": [
    "So lets check the second highest neighborhood:"
   ]
  },
  {
   "cell_type": "code",
   "execution_count": 37,
   "id": "a05d355f",
   "metadata": {},
   "outputs": [
    {
     "data": {
      "image/png": "[encoded data removed]",
      "text/plain": [
       "<Figure size 432x288 with 2 Axes>"
      ]
     },
     "metadata": {
      "needs_background": "light"
     },
     "output_type": "display_data"
    }
   ],
   "source": [
    "plott('neighbourhood','Portage Bay')"
   ]
  },
  {
   "cell_type": "code",
   "execution_count": 29,
   "id": "7706b7cd",
   "metadata": {},
   "outputs": [
    {
     "data": {
      "text/plain": [
       "14"
      ]
     },
     "execution_count": 29,
     "metadata": {},
     "output_type": "execute_result"
    }
   ],
   "source": [
    "df3[df3['neighbourhood']=='Portage Bay']['listing_id'].nunique()"
   ]
  },
  {
   "cell_type": "markdown",
   "id": "cc8f8577",
   "metadata": {},
   "source": [
    "Which means that 'Portage Bay' neighbourhood has the highest average price in Seattle:"
   ]
  },
  {
   "cell_type": "code",
   "execution_count": 38,
   "id": "8c214a1c",
   "metadata": {},
   "outputs": [
    {
     "data": {
      "image/png": "[encoded data removed]",
      "text/plain": [
       "<Figure size 432x288 with 2 Axes>"
      ]
     },
     "metadata": {
      "needs_background": "light"
     },
     "output_type": "display_data"
    }
   ],
   "source": [
    "plott('neighbourhood','Industrial District')"
   ]
  },
  {
   "cell_type": "code",
   "execution_count": 31,
   "id": "a2b77ff3",
   "metadata": {},
   "outputs": [
    {
     "data": {
      "text/plain": [
       "3"
      ]
     },
     "execution_count": 31,
     "metadata": {},
     "output_type": "execute_result"
    }
   ],
   "source": [
    "df3[df3['neighbourhood']=='Industrial District']['listing_id'].nunique()"
   ]
  },
  {
   "cell_type": "markdown",
   "id": "a61c1f7f",
   "metadata": {},
   "source": [
    "'Industrial District' follows Portage Bay but as it shows it has too few listing and they remained available for 2 whole months"
   ]
  }
 ],
 "metadata": {
  "kernelspec": {
   "display_name": "Python 3",
   "language": "python",
   "name": "python3"
  },
  "language_info": {
   "codemirror_mode": {
    "name": "ipython",
    "version": 3
   },
   "file_extension": ".py",
   "mimetype": "text/x-python",
   "name": "python",
   "nbconvert_exporter": "python",
   "pygments_lexer": "ipython3",
   "version": "3.8.8"
  }
 },
 "nbformat": 4,
 "nbformat_minor": 5
}
