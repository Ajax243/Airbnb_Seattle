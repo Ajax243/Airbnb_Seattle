{
 "cells": [
  {
   "cell_type": "markdown",
   "id": "364863df",
   "metadata": {},
   "source": [
    "Importing the required libraries"
   ]
  },
  {
   "cell_type": "code",
   "execution_count": null,
   "id": "c0b93dfb",
   "metadata": {},
   "outputs": [],
   "source": [
    "import numpy as np\n",
    "import pandas as pd\n",
    "import matplotlib.pyplot as plt\n",
    "import seaborn as sns\n",
    "from nltk.sentiment import SentimentIntensityAnalyzer\n",
    "%matplotlib inline"
   ]
  },
  {
   "cell_type": "code",
   "execution_count": null,
   "id": "b0379c82",
   "metadata": {},
   "outputs": [],
   "source": [
    "from sklearn.preprocessing import StandardScaler\n",
    "from sklearn.model_selection import train_test_split\n",
    "from sklearn.linear_model import LinearRegression\n",
    "\n",
    "from sklearn.ensemble import RandomForestRegressor\n",
    "from sklearn.model_selection import GridSearchCV\n",
    "from sklearn import metrics\n",
    "from sklearn.metrics import r2_score\n"
   ]
  },
  {
   "cell_type": "markdown",
   "id": "3cfd0bbc",
   "metadata": {},
   "source": [
    "loading the data"
   ]
  },
  {
   "cell_type": "code",
   "execution_count": null,
   "id": "83fcb6c1",
   "metadata": {},
   "outputs": [],
   "source": [
    "df=pd.read_csv('listings.csv')"
   ]
  },
  {
   "cell_type": "code",
   "execution_count": null,
   "id": "a245783d",
   "metadata": {
    "scrolled": true
   },
   "outputs": [],
   "source": [
    "df.head()"
   ]
  },
  {
   "cell_type": "markdown",
   "id": "c478751b",
   "metadata": {},
   "source": [
    "Cannot see all the column names along with the data types it contains.\n",
    "\n",
    "Lets see the percentage of nulls in each column"
   ]
  },
  {
   "cell_type": "code",
   "execution_count": null,
   "id": "a5ae6e1a",
   "metadata": {},
   "outputs": [],
   "source": [
    "for i in df.columns:\n",
    "    print(f\"{i:<32}\" +' %  Nulls: ' + f\"{str(int((df[i].isnull().sum()/len(df))*100)) : >10}\")"
   ]
  },
  {
   "cell_type": "markdown",
   "id": "fd86d826",
   "metadata": {},
   "source": [
    "Many columns have data that provide no value and no value can be extracted through feature engineering.\n",
    "\n",
    "Will do an initial drop and inspect the rest of the columns accordingly"
   ]
  },
  {
   "cell_type": "code",
   "execution_count": null,
   "id": "9f32ac2b",
   "metadata": {},
   "outputs": [],
   "source": [
    "df=df.drop(['listing_url','thumbnail_url','medium_url' , 'picture_url','xl_picture_url','scrape_id','last_scraped',\n",
    "            'experiences_offered','picture_url','requires_license','license','jurisdiction_names','state','city','market'\n",
    "            ,'smart_location','country_code','country','longitude','latitude','square_feet','has_availability',\n",
    "            'calendar_last_scraped','host_url','host_name','host_location','host_about','host_thumbnail_url',\n",
    "            'host_picture_url','street','availability_30','availability_60','availability_90','first_review',\n",
    "            'last_review','minimum_nights','maximum_nights','extra_people'],axis=1)"
   ]
  },
  {
   "cell_type": "markdown",
   "id": "38b3bfcd",
   "metadata": {},
   "source": [
    "Lets look at the data types"
   ]
  },
  {
   "cell_type": "code",
   "execution_count": null,
   "id": "2d1e7e43",
   "metadata": {
    "scrolled": false
   },
   "outputs": [],
   "source": [
    "for i in df.columns:\n",
    "    print(f\"{i:<32}\" +'  : '+ str(df[i].dtypes))"
   ]
  },
  {
   "cell_type": "markdown",
   "id": "7db2fd80",
   "metadata": {},
   "source": [
    "Many numerical columns are formated as objects, will need to change them to float for easier exploration"
   ]
  },
  {
   "cell_type": "code",
   "execution_count": null,
   "id": "e315aea4",
   "metadata": {},
   "outputs": [],
   "source": [
    "def numeric_converter(df):\n",
    "    for i in df.columns:\n",
    "        df[i]=df[i].str.strip('% $ ,')\n",
    "        df[i]=df[i].str.replace(',', '')\n",
    "        df[i]=pd.to_numeric(df[i],downcast='float')\n",
    "    return df\n",
    "\n",
    "df[['host_response_rate','price','security_deposit','cleaning_fee']]=numeric_converter(df[['host_response_rate','price','security_deposit','cleaning_fee']])\n",
    "\n"
   ]
  },
  {
   "cell_type": "markdown",
   "id": "9a132a1f",
   "metadata": {},
   "source": [
    "Instead of dropping the below columns directly, will try to see if there's a correlation between a positive language and the unit price"
   ]
  },
  {
   "cell_type": "markdown",
   "id": "e4781c8b",
   "metadata": {},
   "source": [
    "The below columns have no sentiment as per definition, so will check if the more a person describes the unit the higher the demand and therefore the price"
   ]
  },
  {
   "cell_type": "code",
   "execution_count": null,
   "id": "ec56caac",
   "metadata": {},
   "outputs": [],
   "source": [
    "cols=['notes','transit']"
   ]
  },
  {
   "cell_type": "code",
   "execution_count": null,
   "id": "f6a8782b",
   "metadata": {},
   "outputs": [],
   "source": [
    "for i in cols:\n",
    "    df[i]=df[i].str.len()"
   ]
  },
  {
   "cell_type": "code",
   "execution_count": null,
   "id": "8274699d",
   "metadata": {},
   "outputs": [],
   "source": [
    "df_sent1=df[['id','name','summary','space','description']]"
   ]
  },
  {
   "cell_type": "markdown",
   "id": "31cd376b",
   "metadata": {},
   "source": [
    "Filling the nulls with a neutral word because the sentiment analyzer does not work with nulls"
   ]
  },
  {
   "cell_type": "code",
   "execution_count": null,
   "id": "3a6c0b5e",
   "metadata": {},
   "outputs": [],
   "source": [
    "df.head()"
   ]
  },
  {
   "cell_type": "code",
   "execution_count": null,
   "id": "1bc90a46",
   "metadata": {},
   "outputs": [],
   "source": [
    "df_sent1=df_sent1.fillna('none')"
   ]
  },
  {
   "cell_type": "markdown",
   "id": "7cbbcbd4",
   "metadata": {},
   "source": [
    "Defining a function and using it to replace each of the columns defined above in (df_sent1) with their sentiment value"
   ]
  },
  {
   "cell_type": "raw",
   "id": "be816c07",
   "metadata": {},
   "source": [
    "def Analyze(df):\n",
    "    def senti (phrase):\n",
    "        sia = SentimentIntensityAnalyzer()        \n",
    "        return sia.polarity_scores(phrase)['compound']\n",
    "    \n",
    "    object_df=df.select_dtypes(include=['object'])\n",
    "    for i in object_df.columns:\n",
    "        object_df[i]=object_df[i].apply(senti)\n",
    "    \n",
    "    return object_df          \n",
    "analyzed_df=Analyze(df_sent1)\n",
    "analyzed_df"
   ]
  },
  {
   "cell_type": "raw",
   "id": "d7f9fa28",
   "metadata": {},
   "source": [
    "analyzed_df['sum'] = analyzed_df.sum(axis=1)"
   ]
  },
  {
   "cell_type": "raw",
   "id": "5a987d3f",
   "metadata": {},
   "source": [
    "analyzed_df"
   ]
  },
  {
   "cell_type": "markdown",
   "id": "e3db1ab3",
   "metadata": {},
   "source": [
    "There seem to be no correlation between any of the above columns and price"
   ]
  },
  {
   "cell_type": "code",
   "execution_count": null,
   "id": "b2d5b166",
   "metadata": {
    "scrolled": true
   },
   "outputs": [],
   "source": [
    "#plt.scatter(x=analyzed_df['description'],y=df['price']);\n",
    "#analyzed_df['description'].corr(df['price'])"
   ]
  },
  {
   "cell_type": "code",
   "execution_count": null,
   "id": "84208a5d",
   "metadata": {},
   "outputs": [],
   "source": [
    "df1= df[['id', 'number_of_reviews','review_scores_rating','review_scores_accuracy','review_scores_cleanliness',\n",
    "         'review_scores_checkin','review_scores_communication','review_scores_value']]\n",
    "df1.fillna(0,inplace=True)\n",
    "\n",
    "df1['review_scores_total']=df1['review_scores_rating']+df1['review_scores_accuracy']+df1['review_scores_cleanliness']+df1.review_scores_checkin\n",
    "+df1.review_scores_communication+df1.review_scores_value;\n",
    "\n",
    "plt.scatter(x=df1['review_scores_total'],y=df['price']);\n",
    "df1['review_scores_total'].corr(df['price'])"
   ]
  },
  {
   "cell_type": "markdown",
   "id": "0bb81cbe",
   "metadata": {},
   "source": [
    "Drop the columns as they provide no value"
   ]
  },
  {
   "cell_type": "code",
   "execution_count": null,
   "id": "1a9173ef",
   "metadata": {},
   "outputs": [],
   "source": [
    "df=df.drop(['name','summary','space','description','notes','transit','number_of_reviews','review_scores_rating','review_scores_accuracy','review_scores_cleanliness',\n",
    "         'review_scores_checkin','review_scores_communication','review_scores_value','review_scores_location','neighborhood_overview'],axis=1)"
   ]
  },
  {
   "cell_type": "markdown",
   "id": "f96b2ad3",
   "metadata": {},
   "source": [
    "Create a function that splits columns with multiple strings into separate columns and another function to count them"
   ]
  },
  {
   "cell_type": "code",
   "execution_count": null,
   "id": "fdef9776",
   "metadata": {},
   "outputs": [],
   "source": [
    "def str_split(df,col):\n",
    "    \n",
    "    df[col]=df[col].str.replace('\"','')\n",
    "    df[col]=df[col].str.strip(\" []''\")\n",
    "    df=df[col].str.split(',',expand=True)\n",
    "    \n",
    "    return df\n",
    "\n",
    "def row_count(df):    \n",
    "    df['count']=df.apply(lambda x: x.count(), axis=1)\n",
    "    return df"
   ]
  },
  {
   "cell_type": "markdown",
   "id": "b0c16712",
   "metadata": {},
   "source": [
    "Use the above two functions on the Amenities column to check if there's a correlation between the number of amenities and price"
   ]
  },
  {
   "cell_type": "code",
   "execution_count": null,
   "id": "32d3b4e7",
   "metadata": {},
   "outputs": [],
   "source": [
    "df2=df[['amenities']]\n",
    "df2['amenities']=row_count(str_split(df2,'amenities'))[:]['count']\n",
    "\n",
    "\n",
    "df3=pd.concat([df['id'],df2],axis=1)\n",
    "\n",
    "df['amenities']=df3['amenities']"
   ]
  },
  {
   "cell_type": "code",
   "execution_count": null,
   "id": "9773316d",
   "metadata": {},
   "outputs": [],
   "source": [
    "for column in df.select_dtypes(include=['object']).columns:\n",
    "    display(pd.crosstab(index=df[column],\n",
    "                        columns='% observations', \n",
    "                        normalize='columns'))\n",
    "    print(\"# of unique values {}\".format(df[column].nunique()))\n",
    "\n",
    "# show summary statistics\n",
    "display(df.describe())\n",
    "\n",
    "# build histograms for each numeric feature\n",
    "%matplotlib inline\n",
    "hist = df.hist(bins=30, sharey=False, figsize=(15, 10))"
   ]
  },
  {
   "cell_type": "code",
   "execution_count": null,
   "id": "a9e214f7",
   "metadata": {},
   "outputs": [],
   "source": [
    "df.columns"
   ]
  },
  {
   "cell_type": "raw",
   "id": "b2c981df",
   "metadata": {},
   "source": [
    "drop( ['host_since','host_acceptance_rate','host_neighbourhood','host_has_profile_pic','neighbourhood_cleansed',\n",
    "      'neighbourhood','weekly_price','monthly_price','calendar_updated'])\n",
    "\n",
    "dummy(['host_response_time','host_is_superhost','host_identity_verified','neighbourhood_group_cleansed','zip_code',\n",
    "      'is_location_exact','property_type','room_type','bed_type','instant_bookable','cancellation_policy',\n",
    "       'require_guest_profile_picture','require_guest_phone_verification'])\n",
    "\n",
    "convert to numeric (['host_response_rate','price','security_deposit','cleaning_fee','extra_people'])\n",
    "string_count(['host_verifications'])"
   ]
  },
  {
   "cell_type": "code",
   "execution_count": null,
   "id": "2ad2fa39",
   "metadata": {},
   "outputs": [],
   "source": [
    "host_ver_df=df[['host_verifications']]"
   ]
  },
  {
   "cell_type": "code",
   "execution_count": null,
   "id": "066f1510",
   "metadata": {},
   "outputs": [],
   "source": [
    "df_dummies=df[['host_response_time','host_is_superhost','host_identity_verified','neighbourhood_group_cleansed','zipcode',\n",
    "      'is_location_exact','property_type','room_type','bed_type','instant_bookable','cancellation_policy',\n",
    "       'require_guest_profile_picture','require_guest_phone_verification']]"
   ]
  },
  {
   "cell_type": "code",
   "execution_count": null,
   "id": "0d471170",
   "metadata": {},
   "outputs": [],
   "source": [
    "df=df.drop(['host_since','host_acceptance_rate','host_neighbourhood','host_has_profile_pic','neighbourhood_cleansed',\n",
    "      'neighbourhood','weekly_price','monthly_price','calendar_updated'],axis=1)"
   ]
  },
  {
   "cell_type": "code",
   "execution_count": null,
   "id": "786aa1b6",
   "metadata": {},
   "outputs": [],
   "source": [
    "df_numeric=df.select_dtypes(include=['int64','float64','float32','int32'])\n",
    "\n",
    "df_numeric"
   ]
  },
  {
   "cell_type": "code",
   "execution_count": null,
   "id": "5b045619",
   "metadata": {},
   "outputs": [],
   "source": [
    "df.shape[1]-df_dummies.shape[1]-df_numeric.shape[1]"
   ]
  },
  {
   "cell_type": "code",
   "execution_count": null,
   "id": "e7135a0f",
   "metadata": {},
   "outputs": [],
   "source": [
    "df_dummies"
   ]
  },
  {
   "cell_type": "code",
   "execution_count": null,
   "id": "27f84a44",
   "metadata": {},
   "outputs": [],
   "source": [
    "df['host_verifications']=row_count(str_split(host_ver_df,'host_verifications'))[:]['count']"
   ]
  },
  {
   "cell_type": "code",
   "execution_count": null,
   "id": "9cf0af99",
   "metadata": {},
   "outputs": [],
   "source": [
    "df.head()"
   ]
  },
  {
   "cell_type": "code",
   "execution_count": null,
   "id": "fdf4e9a0",
   "metadata": {},
   "outputs": [],
   "source": [
    "for i in df.columns:\n",
    "    print(f\"{i:<32}\" +'  : '+ str(df[i].dtypes))"
   ]
  },
  {
   "cell_type": "code",
   "execution_count": null,
   "id": "73dce536",
   "metadata": {},
   "outputs": [],
   "source": [
    "df_dummies=pd.get_dummies(df_dummies,dummy_na=True)"
   ]
  },
  {
   "cell_type": "code",
   "execution_count": null,
   "id": "d1be5248",
   "metadata": {},
   "outputs": [],
   "source": [
    "plt.figure(figsize = (15, 10))\n",
    "sns.heatmap(df_numeric.corr(), annot=True)"
   ]
  },
  {
   "cell_type": "code",
   "execution_count": null,
   "id": "2a42ff25",
   "metadata": {},
   "outputs": [],
   "source": [
    "df_numeric=df_numeric.drop(['id','host_id','availability_365', 'host_response_rate','host_listings_count','host_total_listings_count','calculated_host_listings_count','reviews_per_month'],axis=1)"
   ]
  },
  {
   "cell_type": "code",
   "execution_count": null,
   "id": "e5ac6be2",
   "metadata": {},
   "outputs": [],
   "source": [
    "df_numeric=df_numeric.drop(['beds','bathrooms'],axis=1)"
   ]
  },
  {
   "cell_type": "code",
   "execution_count": null,
   "id": "9e0068b6",
   "metadata": {},
   "outputs": [],
   "source": [
    "plt.figure(figsize = (15, 10))\n",
    "sns.heatmap(df_numeric.corr(), annot=True)"
   ]
  },
  {
   "cell_type": "code",
   "execution_count": null,
   "id": "4bf033e9",
   "metadata": {},
   "outputs": [],
   "source": [
    "y=df_numeric['price']\n",
    "df_numeric=df_numeric.drop(['price'],axis=1)"
   ]
  },
  {
   "cell_type": "code",
   "execution_count": null,
   "id": "4e235f47",
   "metadata": {},
   "outputs": [],
   "source": [
    "def normalize(df):\n",
    "    for i in df.columns:\n",
    "        df[i]=StandardScaler().fit_transform(df[[i]])[:,0]\n",
    "    return df\n",
    "df_numeric=normalize(df_numeric)"
   ]
  },
  {
   "cell_type": "code",
   "execution_count": null,
   "id": "856b028e",
   "metadata": {},
   "outputs": [],
   "source": [
    "df_model=pd.concat([df_numeric,df_dummies],axis=1)"
   ]
  },
  {
   "cell_type": "code",
   "execution_count": null,
   "id": "be776f45",
   "metadata": {},
   "outputs": [],
   "source": [
    "df_model.fillna( 0 ,inplace=True)"
   ]
  },
  {
   "cell_type": "code",
   "execution_count": null,
   "id": "dc2a747c",
   "metadata": {},
   "outputs": [],
   "source": [
    "df_model"
   ]
  },
  {
   "cell_type": "code",
   "execution_count": null,
   "id": "adfdfb44",
   "metadata": {},
   "outputs": [],
   "source": [
    "X=df_model"
   ]
  },
  {
   "cell_type": "code",
   "execution_count": null,
   "id": "c7e8fd2c",
   "metadata": {},
   "outputs": [],
   "source": [
    "X_train,X_test,y_train,y_test=train_test_split(X,y,test_size=0.3, random_state=42)\n",
    "X_test, X_val, y_test, y_val = train_test_split(X_test, y_test, test_size=0.5, random_state=42)"
   ]
  },
  {
   "cell_type": "code",
   "execution_count": null,
   "id": "ccbf71e9",
   "metadata": {},
   "outputs": [],
   "source": [
    "lr=LinearRegression()"
   ]
  },
  {
   "cell_type": "code",
   "execution_count": null,
   "id": "3a48d9d9",
   "metadata": {},
   "outputs": [],
   "source": [
    "lr.fit(X_train,y_train)"
   ]
  },
  {
   "cell_type": "code",
   "execution_count": null,
   "id": "f43b67dd",
   "metadata": {},
   "outputs": [],
   "source": [
    "y_pred=lr.predict(X_test)"
   ]
  },
  {
   "cell_type": "code",
   "execution_count": null,
   "id": "6359b54b",
   "metadata": {},
   "outputs": [],
   "source": [
    "r2_score(y_test,y_pred)"
   ]
  },
  {
   "cell_type": "code",
   "execution_count": null,
   "id": "9248c024",
   "metadata": {},
   "outputs": [],
   "source": [
    "RF=RandomForestRegressor()"
   ]
  },
  {
   "cell_type": "code",
   "execution_count": null,
   "id": "b04e3185",
   "metadata": {},
   "outputs": [],
   "source": [
    "RF.fit(X_train,y_train)"
   ]
  },
  {
   "cell_type": "code",
   "execution_count": null,
   "id": "aa79e839",
   "metadata": {},
   "outputs": [],
   "source": [
    "y_pred_RF=RF.predict(X_test)"
   ]
  },
  {
   "cell_type": "code",
   "execution_count": null,
   "id": "635ee537",
   "metadata": {},
   "outputs": [],
   "source": [
    "r2_score(y_test,y_pred_RF)"
   ]
  },
  {
   "cell_type": "code",
   "execution_count": null,
   "id": "035dd914",
   "metadata": {},
   "outputs": [],
   "source": [
    "lr.coeff._"
   ]
  },
  {
   "cell_type": "code",
   "execution_count": null,
   "id": "d9635d79",
   "metadata": {},
   "outputs": [],
   "source": []
  }
 ],
 "metadata": {
  "kernelspec": {
   "display_name": "Python 3",
   "language": "python",
   "name": "python3"
  },
  "language_info": {
   "codemirror_mode": {
    "name": "ipython",
    "version": 3
   },
   "file_extension": ".py",
   "mimetype": "text/x-python",
   "name": "python",
   "nbconvert_exporter": "python",
   "pygments_lexer": "ipython3",
   "version": "3.8.8"
  }
 },
 "nbformat": 4,
 "nbformat_minor": 5
}
